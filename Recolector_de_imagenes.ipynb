{
  "nbformat": 4,
  "nbformat_minor": 0,
  "metadata": {
    "colab": {
      "provenance": []
    },
    "kernelspec": {
      "name": "python3",
      "display_name": "Python 3"
    },
    "language_info": {
      "name": "python"
    }
  },
  "cells": [
    {
      "cell_type": "code",
      "source": [
        "from google.colab import drive\n",
        "drive.mount('/content/drive', force_remount=True)"
      ],
      "metadata": {
        "colab": {
          "base_uri": "https://localhost:8080/"
        },
        "id": "waGxulw3qpSW",
        "outputId": "6ae5f83e-7ff4-44c6-f841-c129ec5ba98a"
      },
      "execution_count": null,
      "outputs": [
        {
          "output_type": "stream",
          "name": "stdout",
          "text": [
            "Mounted at /content/drive\n"
          ]
        }
      ]
    },
    {
      "cell_type": "code",
      "execution_count": null,
      "metadata": {
        "id": "oXz6aJCFmQM6"
      },
      "outputs": [],
      "source": [
        "import cv2\n",
        "import os\n",
        "\n",
        "# Directorio donde se guardarán las imágenes del video\n",
        "output_directory = \"drive/MyDrive/Train/Uriel/\"\n",
        "\n",
        "\n",
        "# Nombre del archivo de video\n",
        "video_file = \"drive/MyDrive/Data Masiva/Uriel.mp4\"  # Reemplaza con el nombre de tu archivo de video\n",
        "\n",
        "# Inicializa el objeto capturador de video\n",
        "cap = cv2.VideoCapture(video_file)\n",
        "\n",
        "# Variables para contar los cuadros\n",
        "frame_count = 0\n",
        "\n",
        "while frame_count < 1001:\n",
        "  ret, frame = cap.read()\n",
        "  frame_count += 1\n",
        "  if (frame_count >= 750):\n",
        "    # Genera el nombre de archivo para guardar la imagen\n",
        "    image_filename = os.path.join(\"drive/MyDrive/Train/Uriel/\", f\"frame_{frame_count:04d}.jpg\")# Guarda la imagen en el directorio\n",
        "    width= int(frame.shape[1] * 30 / 100)\n",
        "    heigth= int(frame.shape[0] * 26 / 100)\n",
        "    dim= (width, heigth)\n",
        "    cv2.imwrite(image_filename, frame)\n",
        "  else:\n",
        "    image_filename = os.path.join(\"drive/MyDrive/Test/Uriel/\", f\"frame_{frame_count:04d}.jpg\")# Guarda la imagen en el\n",
        "    width= int(frame.shape[1] * 30 / 100)\n",
        "    heigth= int(frame.shape[0] * 26 / 100)\n",
        "    dim= (width, heigth)\n",
        "    cv2.imwrite(image_filename, frame)\n",
        "\n",
        "\n",
        "\n",
        "\n",
        "# Muestra el progreso\n",
        "#print(f\"Guardado: {image_filename}\")\n",
        "\n",
        "# Libera el objeto capturador de video\n",
        "cap.release()\n",
        "\n",
        "#print(f\"Se guardaron {frame_count} imágenes en '{output_directory}'\")\n"
      ]
    },
    {
      "cell_type": "code",
      "execution_count": null,
      "metadata": {
        "id": "URjD19_96cAv"
      },
      "outputs": [],
      "source": [
        "# Directorio donde se guardarán las imágenes del video\n",
        "output_directory = \"drive/MyDrive/Train/Fideo/\"\n",
        "\n",
        "\n",
        "# Nombre del archivo de video\n",
        "video_file = \"drive/MyDrive/Data Masiva/Fideo.mp4\"  # Reemplaza con el nombre de tu archivo de video\n",
        "\n",
        "# Inicializa el objeto capturador de video\n",
        "cap = cv2.VideoCapture(video_file)\n",
        "\n",
        "# Variables para contar los cuadros\n",
        "frame_count = 0\n",
        "\n",
        "while frame_count < 1001:\n",
        "  ret, frame = cap.read()\n",
        "  frame_count += 1\n",
        "  if (frame_count >= 750):\n",
        "    # Genera el nombre de archivo para guardar la imagen\n",
        "    image_filename = os.path.join(\"drive/MyDrive/Train/Fideo/\", f\"frame_{frame_count:04d}.jpg\")# Guarda la imagen en el directorio\n",
        "    width= int(frame.shape[1] * 30 / 100)\n",
        "    heigth= int(frame.shape[0] * 26 / 100)\n",
        "    cv2.imwrite(image_filename, frame)\n",
        "  else:\n",
        "    image_filename = os.path.join(\"drive/MyDrive/Test/Fideo/\", f\"frame_{frame_count:04d}.jpg\")# Guarda la imagen en el directorio\n",
        "    width= int(frame.shape[1] * 30 / 100)\n",
        "    heigth= int(frame.shape[0] * 26 / 100)\n",
        "    cv2.imwrite(image_filename, frame)\n",
        "\n",
        "\n",
        "\n",
        "\n",
        "# Muestra el progreso\n",
        "#print(f\"Guardado: {image_filename}\")\n",
        "\n",
        "# Libera el objeto capturador de video\n",
        "cap.release()\n",
        "\n",
        "#print(f\"Se guardaron {frame_count} imágenes en '{output_directory}'\")\n"
      ]
    },
    {
      "cell_type": "code",
      "execution_count": null,
      "metadata": {
        "id": "OXHU59396cQl"
      },
      "outputs": [],
      "source": [
        "# Directorio donde se guardarán las imágenes del video\n",
        "output_directory = \"drive/MyDrive/Train/Yessica/\"\n",
        "\n",
        "\n",
        "# Nombre del archivo de video\n",
        "video_file = \"drive/MyDrive/Data Masiva/Yessica.mp4\"  # Reemplaza con el nombre de tu archivo de video\n",
        "\n",
        "# Inicializa el objeto capturador de video\n",
        "cap = cv2.VideoCapture(video_file)\n",
        "\n",
        "# Variables para contar los cuadros\n",
        "frame_count = 0\n",
        "\n",
        "while frame_count < 1001:\n",
        "  ret, frame = cap.read()\n",
        "  frame_count += 1\n",
        "  if (frame_count >= 750):\n",
        "    # Genera el nombre de archivo para guardar la imagen\n",
        "    image_filename = os.path.join(\"drive/MyDrive/Train/Yessica/\", f\"frame_{frame_count:04d}.jpg\")# Guarda la imagen en el directorio\n",
        "    width= int(frame.shape[1] * 30 / 100)\n",
        "    heigth= int(frame.shape[0] * 26 / 100)\n",
        "    cv2.imwrite(image_filename, frame)\n",
        "  else:\n",
        "    image_filename = os.path.join(\"drive/MyDrive/Test/Yessica/\", f\"frame_{frame_count:04d}.jpg\")# Guarda la imagen en el directorio\n",
        "    width= int(frame.shape[1] * 30 / 100)\n",
        "    heigth= int(frame.shape[0] * 26 / 100)\n",
        "    cv2.imwrite(image_filename, frame)\n",
        "\n",
        "\n",
        "\n",
        "\n",
        "# Muestra el progreso\n",
        "#print(f\"Guardado: {image_filename}\")\n",
        "\n",
        "# Libera el objeto capturador de video\n",
        "cap.release()\n",
        "\n",
        "#print(f\"Se guardaron {frame_count} imágenes en '{output_directory}'\")\n"
      ]
    },
    {
      "cell_type": "code",
      "execution_count": null,
      "metadata": {
        "id": "lgYoV4HJ6cZH"
      },
      "outputs": [],
      "source": [
        "# Directorio donde se guardarán las imágenes del video\n",
        "output_directory = \"drive/MyDrive/Train/Jesú/\"\n",
        "\n",
        "\n",
        "# Nombre del archivo de video\n",
        "video_file = \"drive/MyDrive/Data Masiva/Jesus.mp4\"  # Reemplaza con el nombre de tu archivo de video\n",
        "\n",
        "# Inicializa el objeto capturador de video\n",
        "cap = cv2.VideoCapture(video_file)\n",
        "\n",
        "# Variables para contar los cuadros\n",
        "frame_count = 0\n",
        "\n",
        "while frame_count < 1001:\n",
        "  ret, frame = cap.read()\n",
        "  frame_count += 1\n",
        "  if (frame_count >= 750):\n",
        "    # Genera el nombre de archivo para guardar la imagen\n",
        "    image_filename = os.path.join(\"drive/MyDrive/Train/Jesú/\", f\"frame_{frame_count:04d}.jpg\")# Guarda la imagen en el directorio\n",
        "    width= int(frame.shape[1] * 30 / 100)\n",
        "    heigth= int(frame.shape[0] * 26 / 100)\n",
        "    cv2.imwrite(image_filename, frame)\n",
        "  else:\n",
        "    image_filename = os.path.join(\"drive/MyDrive/Test/Jesú/\", f\"frame_{frame_count:04d}.jpg\")# Guarda la imagen en el directorio\n",
        "    width= int(frame.shape[1] * 30 / 100)\n",
        "    heigth= int(frame.shape[0] * 26 / 100)\n",
        "    cv2.imwrite(image_filename, frame)\n",
        "\n",
        "\n",
        "\n",
        "\n",
        "# Muestra el progreso\n",
        "#print(f\"Guardado: {image_filename}\")\n",
        "\n",
        "# Libera el objeto capturador de video\n",
        "cap.release()\n",
        "\n",
        "#print(f\"Se guardaron {frame_count} imágenes en '{output_directory}'\")\n"
      ]
    },
    {
      "cell_type": "code",
      "execution_count": null,
      "metadata": {
        "id": "sNCMAhry6cfr"
      },
      "outputs": [],
      "source": [
        "import cv2\n",
        "import os\n",
        "\n",
        "# Directorio donde se guardarán las imágenes del video\n",
        "output_directory = \"drive/MyDrive/Train/Bianca/\"\n",
        "\n",
        "\n",
        "# Nombre del archivo de video\n",
        "video_file = \"drive/MyDrive/Data Masiva/Bianca.mp4\"  # Reemplaza con el nombre de tu archivo de video\n",
        "\n",
        "# Inicializa el objeto capturador de video\n",
        "cap = cv2.VideoCapture(video_file)\n",
        "\n",
        "# Variables para contar los cuadros\n",
        "frame_count = 0\n",
        "\n",
        "while frame_count < 1001:\n",
        "  ret, frame = cap.read()\n",
        "  frame_count += 1\n",
        "  if (frame_count >= 750):\n",
        "    # Genera el nombre de archivo para guardar la imagen\n",
        "    image_filename = os.path.join(\"drive/MyDrive/Train/Bianca/\", f\"frame_{frame_count:04d}.jpg\")# Guarda la imagen en el directorio\n",
        "    width= int(frame.shape[1] * 30 / 100)\n",
        "    heigth= int(frame.shape[0] * 26 / 100)\n",
        "    cv2.imwrite(image_filename, frame)\n",
        "  else:\n",
        "    image_filename = os.path.join(\"drive/MyDrive/Test/Bianca/\", f\"frame_{frame_count:04d}.jpg\")# Guarda la imagen en el directorio\n",
        "    width= int(frame.shape[1] * 30 / 100)\n",
        "    heigth= int(frame.shape[0] * 26 / 100)\n",
        "    cv2.imwrite(image_filename, frame)\n",
        "\n",
        "\n",
        "\n",
        "\n",
        "# Muestra el progreso\n",
        "#print(f\"Guardado: {image_filename}\")\n",
        "\n",
        "# Libera el objeto capturador de video\n",
        "cap.release()\n",
        "\n",
        "#print(f\"Se guardaron {frame_count} imágenes en '{output_directory}'\")\n"
      ]
    },
    {
      "cell_type": "code",
      "execution_count": null,
      "metadata": {
        "id": "U1l8H0BQ6cmk"
      },
      "outputs": [],
      "source": [
        "import cv2\n",
        "import os\n",
        "\n",
        "# Directorio donde se guardarán las imágenes del video\n",
        "output_directory = \"drive/MyDrive/Train/Caro/\"\n",
        "\n",
        "\n",
        "# Nombre del archivo de video\n",
        "video_file = \"drive/MyDrive/Data Masiva/Caro.mp4\"  # Reemplaza con el nombre de tu archivo de video\n",
        "\n",
        "# Inicializa el objeto capturador de video\n",
        "cap = cv2.VideoCapture(video_file)\n",
        "\n",
        "# Variables para contar los cuadros\n",
        "frame_count = 0\n",
        "\n",
        "while frame_count < 1001:\n",
        "  ret, frame = cap.read()\n",
        "  frame_count += 1\n",
        "  if (frame_count >= 750):\n",
        "    # Genera el nombre de archivo para guardar la imagen\n",
        "    image_filename = os.path.join(\"drive/MyDrive/Train/Caro/\", f\"frame_{frame_count:04d}.jpg\")# Guarda la imagen en el directorio\n",
        "    width= int(frame.shape[1] * 30 / 100)\n",
        "    heigth= int(frame.shape[0] * 26 / 100)\n",
        "    cv2.imwrite(image_filename, frame)\n",
        "  else:\n",
        "    image_filename = os.path.join(\"drive/MyDrive/Test/Caro/\", f\"frame_{frame_count:04d}.jpg\")# Guarda la imagen en el directorio\n",
        "    width= int(frame.shape[1] * 30 / 100)\n",
        "    heigth= int(frame.shape[0] * 26 / 100)\n",
        "    cv2.imwrite(image_filename, frame)\n",
        "\n",
        "\n",
        "\n",
        "\n",
        "# Muestra el progreso\n",
        "#print(f\"Guardado: {image_filename}\")\n",
        "\n",
        "# Libera el objeto capturador de video\n",
        "cap.release()\n",
        "\n",
        "#print(f\"Se guardaron {frame_count} imágenes en '{output_directory}'\")\n"
      ]
    },
    {
      "cell_type": "code",
      "execution_count": null,
      "metadata": {
        "id": "JDfIB1Aa6eeG"
      },
      "outputs": [],
      "source": [
        "import cv2\n",
        "import os\n",
        "\n",
        "# Directorio donde se guardarán las imágenes del video\n",
        "output_directory = \"drive/MyDrive/Train/Jake/\"\n",
        "\n",
        "\n",
        "# Nombre del archivo de video\n",
        "video_file = \"drive/MyDrive/Data Masiva/Jake.mp4\"  # Reemplaza con el nombre de tu archivo de video\n",
        "\n",
        "# Inicializa el objeto capturador de video\n",
        "cap = cv2.VideoCapture(video_file)\n",
        "\n",
        "# Variables para contar los cuadros\n",
        "frame_count = 0\n",
        "\n",
        "while frame_count < 1001:\n",
        "  ret, frame = cap.read()\n",
        "  frame_count += 1\n",
        "  if (frame_count >= 750):\n",
        "    # Genera el nombre de archivo para guardar la imagen\n",
        "    image_filename = os.path.join(\"drive/MyDrive/Train/Jake/\", f\"frame_{frame_count:04d}.jpg\")# Guarda la imagen en el directorio\n",
        "    width= int(frame.shape[1] * 30 / 100)\n",
        "    heigth= int(frame.shape[0] * 26 / 100)\n",
        "    cv2.imwrite(image_filename, frame)\n",
        "  else:\n",
        "    image_filename = os.path.join(\"drive/MyDrive/Test/Jake/\", f\"frame_{frame_count:04d}.jpg\")# Guarda la imagen en el directorio\n",
        "    width= int(frame.shape[1] * 30 / 100)\n",
        "    heigth= int(frame.shape[0] * 26 / 100)\n",
        "    cv2.imwrite(image_filename, frame)\n",
        "\n",
        "\n",
        "\n",
        "\n",
        "# Muestra el progreso\n",
        "#print(f\"Guardado: {image_filename}\")\n",
        "\n",
        "# Libera el objeto capturador de video\n",
        "cap.release()\n",
        "\n",
        "#print(f\"Se guardaron {frame_count} imágenes en '{output_directory}'\")\n"
      ]
    },
    {
      "cell_type": "code",
      "source": [
        "train_dir = '/content/drive/Mydrive/Train/Uriel/' # Datos de entrenamiento\n",
        "test_dir = '/content/drive/Mydrive/Test/Uriel/'  #Datos de Prueba"
      ],
      "metadata": {
        "id": "k3_x4GXbAdVC"
      },
      "execution_count": null,
      "outputs": []
    },
    {
      "cell_type": "code",
      "source": [
        "batch_size = 750 # Inicialmente 64\n",
        "img_height = 512\n",
        "img_width = 512"
      ],
      "metadata": {
        "id": "wQV487GmAYmf"
      },
      "execution_count": null,
      "outputs": []
    },
    {
      "cell_type": "code",
      "source": [
        "train_ds = tf.keras.preprocessing.image_dataset_from_directory(\n",
        "    train_dir, #ruta de la carpeta con imágenes\n",
        "    validation_split=0.3, #70% para el conjunto de entrenamiento y 30% para el conjunto de prueba\n",
        "    subset='training', # categoría entrenamiento\n",
        "    seed=123, # Semilla aleatoria opcional\n",
        "    image_size=(img_height, img_width), #Tamaño de las imágenes\n",
        "    batch_size=batch_size) #Tamaño de lote de datos, si no se específica entonces de determina 32"
      ],
      "metadata": {
        "colab": {
          "base_uri": "https://localhost:8080/",
          "height": 245
        },
        "id": "Ah37r2TKAqv8",
        "outputId": "8ca94423-44c7-4bbc-e3ee-9fbdd1f8faa7"
      },
      "execution_count": null,
      "outputs": [
        {
          "output_type": "error",
          "ename": "NameError",
          "evalue": "ignored",
          "traceback": [
            "\u001b[0;31m---------------------------------------------------------------------------\u001b[0m",
            "\u001b[0;31mNameError\u001b[0m                                 Traceback (most recent call last)",
            "\u001b[0;32m<ipython-input-20-5c7457772fd1>\u001b[0m in \u001b[0;36m<cell line: 1>\u001b[0;34m()\u001b[0m\n\u001b[0;32m----> 1\u001b[0;31m train_ds = tf.keras.preprocessing.image_dataset_from_directory(\n\u001b[0m\u001b[1;32m      2\u001b[0m     \u001b[0mtrain_dir\u001b[0m\u001b[0;34m,\u001b[0m \u001b[0;31m#ruta de la carpeta con imágenes\u001b[0m\u001b[0;34m\u001b[0m\u001b[0;34m\u001b[0m\u001b[0m\n\u001b[1;32m      3\u001b[0m     \u001b[0mvalidation_split\u001b[0m\u001b[0;34m=\u001b[0m\u001b[0;36m0.3\u001b[0m\u001b[0;34m,\u001b[0m \u001b[0;31m#70% para el conjunto de entrenamiento y 30% para el conjunto de prueba\u001b[0m\u001b[0;34m\u001b[0m\u001b[0;34m\u001b[0m\u001b[0m\n\u001b[1;32m      4\u001b[0m     \u001b[0msubset\u001b[0m\u001b[0;34m=\u001b[0m\u001b[0;34m'training'\u001b[0m\u001b[0;34m,\u001b[0m \u001b[0;31m# categoría entrenamiento\u001b[0m\u001b[0;34m\u001b[0m\u001b[0;34m\u001b[0m\u001b[0m\n\u001b[1;32m      5\u001b[0m     \u001b[0mseed\u001b[0m\u001b[0;34m=\u001b[0m\u001b[0;36m123\u001b[0m\u001b[0;34m,\u001b[0m \u001b[0;31m# Semilla aleatoria opcional\u001b[0m\u001b[0;34m\u001b[0m\u001b[0;34m\u001b[0m\u001b[0m\n",
            "\u001b[0;31mNameError\u001b[0m: name 'tf' is not defined"
          ]
        }
      ]
    },
    {
      "cell_type": "code",
      "source": [
        "test_ds = tf.keras.preprocessing.image_dataset_from_directory(\n",
        "  test_dir, #ruta de la carpeta con imágenes\n",
        "  validation_split=0.3, #70% para el conjunto de entrenamiento y 30% para el conjunto de prueba\n",
        "  subset=\"validation\", # categoría validación (prueba)\n",
        "  seed=123, #Semilla aleatoria opcional\n",
        "  image_size=(img_height, img_width), #Tamaño de las imágenes\n",
        "  batch_size=batch_size) #Tamaño de lote de datos, si no se específica entonces de determina 32"
      ],
      "metadata": {
        "colab": {
          "base_uri": "https://localhost:8080/",
          "height": 245
        },
        "id": "LuU4LGIkBTIH",
        "outputId": "a47dc212-5f38-4ef0-b49d-db6f2bc34fb6"
      },
      "execution_count": null,
      "outputs": [
        {
          "output_type": "error",
          "ename": "NameError",
          "evalue": "ignored",
          "traceback": [
            "\u001b[0;31m---------------------------------------------------------------------------\u001b[0m",
            "\u001b[0;31mNameError\u001b[0m                                 Traceback (most recent call last)",
            "\u001b[0;32m<ipython-input-21-150b0c5e4dc3>\u001b[0m in \u001b[0;36m<cell line: 1>\u001b[0;34m()\u001b[0m\n\u001b[0;32m----> 1\u001b[0;31m test_ds = tf.keras.preprocessing.image_dataset_from_directory(\n\u001b[0m\u001b[1;32m      2\u001b[0m   \u001b[0mtest_dir\u001b[0m\u001b[0;34m,\u001b[0m \u001b[0;31m#ruta de la carpeta con imágenes\u001b[0m\u001b[0;34m\u001b[0m\u001b[0;34m\u001b[0m\u001b[0m\n\u001b[1;32m      3\u001b[0m   \u001b[0mvalidation_split\u001b[0m\u001b[0;34m=\u001b[0m\u001b[0;36m0.3\u001b[0m\u001b[0;34m,\u001b[0m \u001b[0;31m#70% para el conjunto de entrenamiento y 30% para el conjunto de prueba\u001b[0m\u001b[0;34m\u001b[0m\u001b[0;34m\u001b[0m\u001b[0m\n\u001b[1;32m      4\u001b[0m   \u001b[0msubset\u001b[0m\u001b[0;34m=\u001b[0m\u001b[0;34m\"validation\"\u001b[0m\u001b[0;34m,\u001b[0m \u001b[0;31m# categoría validación (prueba)\u001b[0m\u001b[0;34m\u001b[0m\u001b[0;34m\u001b[0m\u001b[0m\n\u001b[1;32m      5\u001b[0m   \u001b[0mseed\u001b[0m\u001b[0;34m=\u001b[0m\u001b[0;36m123\u001b[0m\u001b[0;34m,\u001b[0m \u001b[0;31m#Semilla aleatoria opcional\u001b[0m\u001b[0;34m\u001b[0m\u001b[0;34m\u001b[0m\u001b[0m\n",
            "\u001b[0;31mNameError\u001b[0m: name 'tf' is not defined"
          ]
        }
      ]
    },
    {
      "cell_type": "code",
      "source": [
        "class_names = train_ds.class_names\n",
        "print(class_names)"
      ],
      "metadata": {
        "id": "xXm5IQceBTip"
      },
      "execution_count": null,
      "outputs": []
    },
    {
      "cell_type": "code",
      "source": [
        "plt.figure(figsize= (10,10))\n",
        "for images, labels in train_ds.take(1):\n",
        "  for i in range(9):\n",
        "    ax = plt.subplot(3, 3, i + 1)\n",
        "    plt.imshow(images[i].numpy().astype('uint8'))\n",
        "    plt.title(class_names[labels[i]])\n",
        "    plt.axis('off')"
      ],
      "metadata": {
        "id": "LcFEZY4JBe_u"
      },
      "execution_count": null,
      "outputs": []
    },
    {
      "cell_type": "code",
      "source": [
        "y_train = tf.keras.utils.to_categorical(y_train, 3)\n",
        "y_test = tf.keras.utils.to_categorical(y_test, 3)"
      ],
      "metadata": {
        "id": "0bksIzRwBo8o"
      },
      "execution_count": null,
      "outputs": []
    },
    {
      "cell_type": "code",
      "source": [
        "model = Sequential([\n",
        "  tf.keras.layers.Conv2D(32, (3,3), activation='relu', padding='same', input_shape=(512, 512, 3)),\n",
        "  tf.keras.layers.MaxPool2D((2,2)),\n",
        "  tf.keras.layers.Conv2D(32, (3,3), activation='relu', padding='same'),\n",
        "  tf.keras.layers.MaxPool2D((2,2)),\n",
        "  tf.keras.layers.Conv2D(64, (3,3), activation='relu', padding='same'),\n",
        "  tf.keras.layers.MaxPool2D((2,2)),\n",
        "  tf.keras.layers.Flatten(),\n",
        "  tf.keras.layers.Dense(units=128, activation=\"relu\"),\n",
        "  tf.keras.layers.Dense(units=64, activation=\"relu\"),\n",
        "  tf.keras.layers.Dense(units=3, activation=\"softmax\")\n",
        "])\n",
        "\n",
        "#opt = keras.optimizers.Adam(learning_rate=0.01)\n",
        "model.compile(optimizer='adam', loss = 'CategoricalCrossentropy',\n",
        "                   metrics = ['accuracy']) #0.001-> Default, batch_size -> Default 32"
      ],
      "metadata": {
        "id": "M10Ep87qBr2Z"
      },
      "execution_count": null,
      "outputs": []
    },
    {
      "cell_type": "code",
      "source": [
        " history = model.fit(\n",
        "    X_train, y_train, # Datos de entrenamiento\n",
        "    epochs = 30, #Número de epocas\n",
        "    validation_data=(X_test, y_test), #Se asigan los datos de validación\n",
        "    verbose=1 #verbosidad. 0 = sin impresión, 1 = barra de progreso, 2 = una línea por época.\n",
        ")"
      ],
      "metadata": {
        "id": "_Jlhg6M0B0oT"
      },
      "execution_count": null,
      "outputs": []
    },
    {
      "cell_type": "code",
      "source": [
        "loss, accuracy = model.evaluate(X_train,y_train, verbose=False)\n",
        "print(\"Training Accuracy: {:.4f}\".format(accuracy))\n",
        "loss, accuracy = model.evaluate(X_test,y_test, verbose=False)\n",
        "print(\"Testing Accuracy:  {:.4f}\".format(accuracy))"
      ],
      "metadata": {
        "id": "OtCVsk1IB4j7"
      },
      "execution_count": null,
      "outputs": []
    },
    {
      "cell_type": "code",
      "source": [
        "def plot_graphs(history, string):\n",
        "  plt.plot(history.history[string])\n",
        "  plt.plot(history.history['val_'+string])\n",
        "  plt.xlabel(\"Epochs\")\n",
        "  plt.ylabel(string)\n",
        "  plt.legend([string, 'val_'+string])\n",
        "  plt.show()\n",
        "\n",
        "plot_graphs(history, \"accuracy\")\n",
        "plot_graphs(history, \"loss\")"
      ],
      "metadata": {
        "id": "MEab-CTbB7lk"
      },
      "execution_count": null,
      "outputs": []
    }
  ]
}